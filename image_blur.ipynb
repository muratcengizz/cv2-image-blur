{
 "cells": [
  {
   "cell_type": "code",
   "execution_count": 13,
   "id": "6b7ab2da-b249-4c73-b63b-8ed26109daa7",
   "metadata": {},
   "outputs": [],
   "source": [
    "import cv2\n",
    "import numpy as np\n",
    "import matplotlib.pyplot as plt"
   ]
  },
  {
   "cell_type": "code",
   "execution_count": 22,
   "id": "37bcddec-ae48-4b12-8850-d076c883eb62",
   "metadata": {},
   "outputs": [
    {
     "data": {
      "text/plain": [
       "-1"
      ]
     },
     "execution_count": 22,
     "metadata": {},
     "output_type": "execute_result"
    }
   ],
   "source": [
    "img = cv2.imread(filename='NYC.jpg')\n",
    "cv2.imshow(winname='Orjinal', mat=img)\n",
    "cv2.waitKey(0)"
   ]
  },
  {
   "cell_type": "markdown",
   "id": "f508e1fe-1a79-4ddc-8e49-79e21813292e",
   "metadata": {},
   "source": [
    "# Ortalama ile Bulanıklaştırma"
   ]
  },
  {
   "cell_type": "code",
   "execution_count": 24,
   "id": "8f39450b-4dc0-476c-b9ca-ab66236e720f",
   "metadata": {},
   "outputs": [
    {
     "data": {
      "text/plain": [
       "(None, -1)"
      ]
     },
     "execution_count": 24,
     "metadata": {},
     "output_type": "execute_result"
    }
   ],
   "source": [
    "mean1 = cv2.blur(src=img, ksize=(3, 3))\n",
    "cv2.imshow(winname='Ortalama ile Bulaniklastirma', mat=mean1), cv2.waitKey(0)"
   ]
  },
  {
   "cell_type": "code",
   "execution_count": 25,
   "id": "14f2671e-83d1-4440-9973-9f1e60fee2b3",
   "metadata": {},
   "outputs": [
    {
     "data": {
      "text/plain": [
       "(None, -1)"
      ]
     },
     "execution_count": 25,
     "metadata": {},
     "output_type": "execute_result"
    }
   ],
   "source": [
    "mean2 = cv2.blur(src=img, ksize=(5, 5))\n",
    "cv2.imshow(winname='Ortalama ile Bulaniklastirma', mat=mean2), cv2.waitKey(0)"
   ]
  },
  {
   "cell_type": "markdown",
   "id": "882c0f8e-ebc5-4945-87a8-5f262444708d",
   "metadata": {},
   "source": [
    "# Gauss Filtresi ile Bulanıklaştırma"
   ]
  },
  {
   "cell_type": "code",
   "execution_count": 31,
   "id": "d180e914-0c97-4996-987c-8369f49954cf",
   "metadata": {},
   "outputs": [
    {
     "data": {
      "text/plain": [
       "(None, -1)"
      ]
     },
     "execution_count": 31,
     "metadata": {},
     "output_type": "execute_result"
    }
   ],
   "source": [
    "gauss = cv2.GaussianBlur(src=img, ksize=(3, 3), sigmaX=20)\n",
    "cv2.imshow(winname='Gauss ile Bulaniklastirma', mat=gauss), cv2.waitKey(0)"
   ]
  },
  {
   "cell_type": "code",
   "execution_count": 33,
   "id": "de69ced7-2e70-4dc3-a41b-061d7773690e",
   "metadata": {},
   "outputs": [
    {
     "data": {
      "text/plain": [
       "(None, -1)"
      ]
     },
     "execution_count": 33,
     "metadata": {},
     "output_type": "execute_result"
    }
   ],
   "source": [
    "gauss2 = cv2.GaussianBlur(src=img, ksize=(11, 11), sigmaX=50)\n",
    "cv2.imshow(winname='Gauss ile Bulaniklasirma', mat=gauss), cv2.waitKey(0)"
   ]
  },
  {
   "cell_type": "markdown",
   "id": "64039ccd-ac85-4c3d-8b19-3d4cc2d6c141",
   "metadata": {},
   "source": [
    "# Median ile Bulanıklaştirma"
   ]
  },
  {
   "cell_type": "code",
   "execution_count": 35,
   "id": "06f442e6-9f60-4c1e-a70d-5693350a8045",
   "metadata": {},
   "outputs": [
    {
     "data": {
      "text/plain": [
       "(None, -1)"
      ]
     },
     "execution_count": 35,
     "metadata": {},
     "output_type": "execute_result"
    }
   ],
   "source": [
    "median = cv2.medianBlur(src=img, ksize=3)\n",
    "cv2.imshow(winname='Medyan ile Bulaniklastirma', mat=median), cv2.waitKey(0)"
   ]
  },
  {
   "cell_type": "code",
   "execution_count": 36,
   "id": "1d496e1a-15dd-46a2-b14b-50dc23dc6ce9",
   "metadata": {},
   "outputs": [
    {
     "data": {
      "text/plain": [
       "(None, -1)"
      ]
     },
     "execution_count": 36,
     "metadata": {},
     "output_type": "execute_result"
    }
   ],
   "source": [
    "median = cv2.medianBlur(src=img, ksize=5)\n",
    "cv2.imshow(winname='Medyan ile Bulaniklastirma', mat=median), cv2.waitKey(0)"
   ]
  },
  {
   "cell_type": "markdown",
   "id": "c60a71e2-2a15-469a-91d9-3981949d13b7",
   "metadata": {},
   "source": [
    "# Doğrusal Olmayan Bulaniklaştırma"
   ]
  },
  {
   "cell_type": "code",
   "execution_count": 38,
   "id": "2c92bf6a-1413-4f34-bbc1-c220f79c05b6",
   "metadata": {},
   "outputs": [
    {
     "data": {
      "text/plain": [
       "(None, -1)"
      ]
     },
     "execution_count": 38,
     "metadata": {},
     "output_type": "execute_result"
    }
   ],
   "source": [
    "bilateral = cv2.bilateralFilter(src=img, d=0, sigmaColor=30.0, sigmaSpace=15.0)\n",
    "cv2.imshow(winname='Doğrusal Olmayan Bulaniklastirma', mat=bilateral), cv2.waitKey(0)"
   ]
  },
  {
   "cell_type": "code",
   "execution_count": 39,
   "id": "1f44507c-490d-455c-96bd-bd12893d887f",
   "metadata": {},
   "outputs": [
    {
     "data": {
      "text/plain": [
       "(None, -1)"
      ]
     },
     "execution_count": 39,
     "metadata": {},
     "output_type": "execute_result"
    }
   ],
   "source": [
    "bilateral2 = cv2.bilateralFilter(src=img, d=5, sigmaColor=120.0, sigmaSpace=60.0)\n",
    "cv2.imshow(winname='Dogrusal Olmayan Bulaniklastirma', mat=bilateral2), cv2.waitKey(0)"
   ]
  },
  {
   "cell_type": "code",
   "execution_count": null,
   "id": "d89c85c7-5a93-4a42-a3f2-00435e439e9d",
   "metadata": {},
   "outputs": [],
   "source": []
  },
  {
   "cell_type": "markdown",
   "id": "7cc836c5-e06c-42d5-8a1f-bf902aa10125",
   "metadata": {},
   "source": [
    "## cv2.blur(src, ksize, anchor, borderType)\n",
    "### src: Bulanıklaştırılacak görüntü.\n",
    "### ksize: Filtrenin boyutunu belirten bir (w, h) demeti.\n",
    "### anchor: Filtreleme işlemi sırasında referans alınacak pikselin konumunu belirleyen bir (x, y) demeti. Varsayılan olarak (-1, -1) olarak ayarlanır, bu durumda referans piksel filtrenin merkezi olarak kabul edilir.\n",
    "### borderType: Görüntü kenarlarında uygulanacak kenar tipini belirten bir sabit. Varsayılan olarak cv2.BORDER_DEFAULT olarak ayarlanır."
   ]
  },
  {
   "cell_type": "markdown",
   "id": "e8a4d8c3-376a-4132-ab3f-e1510d671614",
   "metadata": {},
   "source": [
    "## cv2.GaussianBlur(src, ksize, sigmaX, sigmaY, borderType)\n",
    "### src: Bulanıklaştırılacak görüntü\n",
    "### ksize: Gauss filtresinin boyutunu belirten bir (w, h) demeti. Genellikle (0, 0) olarak belirtilir, bu durumda sigmaX ve sigmaY değerleri kullanılır.\n",
    "### sigmaX: X yönündeki Gauss filtresinin standart sapması. Negatif değerler otomatik olarak sigmaX değerine eşitlenir.\n",
    "### sigmaY: Y yönündeki Gauss filtresinin standart sapması. Varsayılan olarak sigmaY=0'dır ve sigmaY=sigmaX olarak kabul edilir.\n",
    "### borderType: Görüntü kenarlarında uygulanacak kenar tipini belirten bir sabit. Varsayılan olarak cv2.BORDER_DEFAULT olarak ayarlanır."
   ]
  },
  {
   "cell_type": "markdown",
   "id": "78caf80a-0e8e-4a78-aca7-617f706769fd",
   "metadata": {},
   "source": [
    "## cv2.medianBlur(src, ksize)\n",
    "### src: Bulanıklaştırılacak görüntü.\n",
    "### ksize: Filtrenin boyutunu belirten bir tek sayı. Örneğin, ksize=3 ise 3x3 boyutunda bir filtre uygulanır."
   ]
  },
  {
   "cell_type": "markdown",
   "id": "ddd7b1c8-db19-4de5-a130-dc42ef4cf165",
   "metadata": {},
   "source": [
    "## cv2.bilateralFilter(src, d, sigmaColor, sigmaSpace, borderType)\n",
    "### src: Bulanıklaştırılacak görüntü.\n",
    "### d: Filtrenin çapını belirleyen bir tamsayı değeri. Genellikle 0 olarak belirtilir, bu durumda d parametresi otomatik olarak hesaplanır.\n",
    "### sigmaColor: Renk benzerliği hesaplamasında kullanılan standart sapma değerini belirleyen bir kayan nokta sayısı. Daha yüksek değerler, daha geniş bir renk aralığını dikkate alır. Önerilen değerler genellikle 25-200 arasındadır.\n",
    "### sigmaSpace: Yerel benzerlik hesaplamasında kullanılan standart sapma değerini belirleyen bir float. Daha yüksek değerler, daha büyük bir etki alanını dikkate alır. Önerilen değerler genellikle sigmaColor'ın yarısıdır.\n",
    "### borderType: Görüntü kenarlarında uygulanacak kenar tipini belirten bir sabit. Varsayılan olarak cv2.BORDER_DEFAULT olarak ayarlanır."
   ]
  }
 ],
 "metadata": {
  "kernelspec": {
   "display_name": "Python 3 (ipykernel)",
   "language": "python",
   "name": "python3"
  },
  "language_info": {
   "codemirror_mode": {
    "name": "ipython",
    "version": 3
   },
   "file_extension": ".py",
   "mimetype": "text/x-python",
   "name": "python",
   "nbconvert_exporter": "python",
   "pygments_lexer": "ipython3",
   "version": "3.9.12"
  }
 },
 "nbformat": 4,
 "nbformat_minor": 5
}
